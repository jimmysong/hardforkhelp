{
 "cells": [
  {
   "cell_type": "code",
   "execution_count": 1,
   "metadata": {},
   "outputs": [],
   "source": [
    "from importlib import reload\n",
    "\n",
    "import ecc\n",
    "import helper\n",
    "import script\n",
    "import tx"
   ]
  },
  {
   "cell_type": "code",
   "execution_count": 2,
   "metadata": {},
   "outputs": [
    {
     "name": "stdout",
     "output_type": "stream",
     "text": [
      "2MxEZNps15dAnGX5XaVwZWgoDvjvsDE5XSx\n"
     ]
    }
   ],
   "source": [
    "# Multisig p2sh, address\n",
    "\n",
    "from ecc import PrivateKey\n",
    "from helper import double_sha256, little_endian_to_int\n",
    "from script import multisig_redeem_script, p2sh_script\n",
    "\n",
    "secrets = (b'jimmy@programmingblockchain.com test1', b'jimmy@programmingblockchain.com test2')\n",
    "\n",
    "private_keys = [PrivateKey(little_endian_to_int(double_sha256(s))) for s in secrets]\n",
    "points = [p.point for p in private_keys]\n",
    "\n",
    "redeem_script = multisig_redeem_script(2, points)\n",
    "h160 = redeem_script.hash160()\n",
    "script_pubkey = p2sh_script(h160)\n",
    "print(script_pubkey.address(testnet=True))"
   ]
  },
  {
   "cell_type": "code",
   "execution_count": 3,
   "metadata": {},
   "outputs": [
    {
     "name": "stdout",
     "output_type": "stream",
     "text": [
      "0100000001b8df883edb04ee72415edd9ea04dfea6a389656a6d907ddfe81f05f1ab480e7700000000db004830450221009bb0421ba4193dcefffacc4f7e99491e524719fdb89dd438adcfd1de8f82298402202d605605365d9b8492953eddfcd158fc0ac728dab89269a720c5621e313c5f2601483045022100c619ed09b0f20e3b47f206f92fe1903c8ae6505088e67b3d2f69ddc3ac3207e002204ea256baab6e3543fa2b836917994e6f59e8aeb23d5ec213dc2279adb3e1a7e9014752210223136797cb0d7596cb5bd476102fe3aface2a06338e1afabffacf8c3cab4883c210385c865e61e275ba6fda4a3167180fc5a6b607150ff18797ee44737cd0d34507b52aeffffffff02f7dc69000000000017a91436b865d5b9664193ea1db43d159edf9edf9438028740420f000000000017a9147144796678ef9edc1a86745c2a01f8fb923ed6568700000000\n"
     ]
    }
   ],
   "source": [
    "# Multisig p2sh redemption\n",
    "\n",
    "from ecc import PrivateKey\n",
    "from helper import double_sha256, little_endian_to_int, decode_base58\n",
    "from script import multisig_redeem_script, p2sh_script, Script\n",
    "from tx import Tx, TxIn, TxOut\n",
    "\n",
    "secrets = (b'jimmy@programmingblockchain.com test1', b'jimmy@programmingblockchain.com test2')\n",
    "\n",
    "private_keys = [PrivateKey(little_endian_to_int(double_sha256(s))) for s in secrets]\n",
    "points = [p.point for p in private_keys]\n",
    "\n",
    "redeem_script = multisig_redeem_script(2, points)\n",
    "prev_tx = bytes.fromhex('770e48abf1051fe8df7d906d6a6589a3a6fe4da09edd5e4172ee04db3e88dfb8')\n",
    "prev_index = 0\n",
    "fee = int(100000000*0.001)\n",
    "\n",
    "tx_in = TxIn(prev_tx, prev_index)\n",
    "h160 = redeem_script.hash160()\n",
    "script_pubkey = p2sh_script(h160)\n",
    "amount = tx_in.value(testnet=True) - fee - 1000000\n",
    "tx_out_1 = TxOut(amount, script_pubkey)\n",
    "h160 = decode_base58('2N3a8NdfeA7SAurCGsd5k9AEYvbszipz3Jz')\n",
    "script_pubkey = p2sh_script(h160)\n",
    "tx_out_2 = TxOut(1000000, script_pubkey)\n",
    "\n",
    "t = Tx(1, [tx_in], [tx_out_1, tx_out_2], 0, testnet=True)\n",
    "t.sign_input_p2sh_multisig(0, private_keys, redeem_script)\n",
    "print(t.serialize().hex())"
   ]
  },
  {
   "cell_type": "code",
   "execution_count": 4,
   "metadata": {},
   "outputs": [
    {
     "name": "stdout",
     "output_type": "stream",
     "text": [
      "2N3a8NdfeA7SAurCGsd5k9AEYvbszipz3Jz\n"
     ]
    }
   ],
   "source": [
    "# p2sh-p2wpkh address\n",
    "\n",
    "from ecc import PrivateKey\n",
    "from helper import double_sha256, hash160, little_endian_to_int\n",
    "from script import p2wpkh_script, p2sh_script, Script\n",
    "from tx import Tx, TxIn, TxOut\n",
    "\n",
    "secret = b'jimmy@programmingblockchain.com test1'\n",
    "\n",
    "private_key = PrivateKey(little_endian_to_int(double_sha256(secret)))\n",
    "point = private_key.point\n",
    "real_h160 = hash160(point.sec())\n",
    "\n",
    "redeem_script = p2wpkh_script(real_h160)\n",
    "h160 = redeem_script.hash160()\n",
    "\n",
    "print(p2sh_script(h160).address(testnet=True))"
   ]
  },
  {
   "cell_type": "code",
   "execution_count": 5,
   "metadata": {},
   "outputs": [
    {
     "name": "stdout",
     "output_type": "stream",
     "text": [
      "010000000001013d4a29f29762c49b2f4d044971c388cffe6484dd2d3d7e6d7e87d975b7d1ade6010000001716001489eb4b9efba700895fd2b02a1b0d2bf8f0864935ffffffff01a0bb0d000000000016001489eb4b9efba700895fd2b02a1b0d2bf8f0864935024830450221009af2dec92bc2101c84cf984e01561c9bdc2563091417c21f495605757831b90202203c203fd9edf0da344da46fca347e115089a525ba6a0a488b17f445fab3f7f29701210223136797cb0d7596cb5bd476102fe3aface2a06338e1afabffacf8c3cab4883c00000000\n"
     ]
    }
   ],
   "source": [
    "# p2sh-p2wpkh redemption\n",
    "\n",
    "from ecc import PrivateKey\n",
    "from helper import double_sha256, little_endian_to_int, decode_bech32\n",
    "from script import multisig_redeem_script, p2wpkh_script\n",
    "from tx import Tx, TxIn, TxOut\n",
    "\n",
    "secret = b'jimmy@programmingblockchain.com test1'\n",
    "\n",
    "private_key = PrivateKey(little_endian_to_int(double_sha256(secret)))\n",
    "point = private_key.point\n",
    "real_h160 = hash160(point.sec())\n",
    "\n",
    "redeem_script = p2wpkh_script(real_h160)\n",
    "h160 = redeem_script.hash160()\n",
    "\n",
    "prev_tx = bytes.fromhex('e6add1b775d9877e6d7e3d2ddd8464fecf88c37149044d2f9bc46297f2294a3d')\n",
    "prev_index = 1\n",
    "fee = int(100000000*0.001)\n",
    "\n",
    "tx_in = TxIn(prev_tx, prev_index)\n",
    "witness_program = decode_bech32('tb1q3845h8hm5uqgjh7jkq4pkrftlrcgvjf442jh4z')\n",
    "h160 = witness_program[2:]\n",
    "script_pubkey = p2wpkh_script(h160)\n",
    "amount = tx_in.value(testnet=True) - fee\n",
    "tx_out = TxOut(amount, script_pubkey)\n",
    "\n",
    "t = Tx(1, [tx_in], [tx_out], 0, testnet=True)\n",
    "t.sign_input_p2sh_p2wpkh(0, private_key)\n",
    "print(t.serialize_segwit().hex())"
   ]
  },
  {
   "cell_type": "code",
   "execution_count": 6,
   "metadata": {},
   "outputs": [
    {
     "name": "stdout",
     "output_type": "stream",
     "text": [
      "tb1q3845h8hm5uqgjh7jkq4pkrftlrcgvjf442jh4z\n"
     ]
    }
   ],
   "source": [
    "# p2wpkh address\n",
    "\n",
    "from ecc import PrivateKey\n",
    "from helper import double_sha256, little_endian_to_int, encode_bech32_checksum\n",
    "from script import multisig_redeem_script, p2sh_script, Script\n",
    "from tx import Tx, TxIn, TxOut\n",
    "\n",
    "secret = b'jimmy@programmingblockchain.com test1'\n",
    "\n",
    "private_key = PrivateKey(little_endian_to_int(double_sha256(secret)))\n",
    "point = private_key.point\n",
    "h160 = hash160(point.sec())\n",
    "script_pubkey = p2wpkh_script(h160)\n",
    "print(script_pubkey.address(testnet=True))"
   ]
  },
  {
   "cell_type": "code",
   "execution_count": 7,
   "metadata": {},
   "outputs": [
    {
     "name": "stdout",
     "output_type": "stream",
     "text": [
      "010000000001016eaa497551fb3dd259d86e90c58ff6a829aa6d606a12962fcec3cc9fc28d29150000000000ffffffff0100350c0000000000220020cb3e53932454c13bcef40c271bfa224fca4253b98c215cf8a0e4d00e9c8fc847024730440220627d44b8eea048a45491c923647f397a7a15b412aa4d39d3a050a754bf3d1824022036cde64835589db899034b4a58757ec7fed7e120aa85ae40ff7eb625314e5d9f01210223136797cb0d7596cb5bd476102fe3aface2a06338e1afabffacf8c3cab4883c00000000\n"
     ]
    }
   ],
   "source": [
    "# p2wpkh redemption\n",
    "\n",
    "from ecc import PrivateKey\n",
    "from helper import double_sha256, little_endian_to_int, encode_bech32_checksum, decode_bech32\n",
    "from script import multisig_redeem_script, p2wsh_script, Script\n",
    "from tx import Tx, TxIn, TxOut\n",
    "\n",
    "secret = b'jimmy@programmingblockchain.com test1'\n",
    "\n",
    "private_key = PrivateKey(little_endian_to_int(double_sha256(secret)))\n",
    "point = private_key.point\n",
    "h160 = hash160(point.sec())\n",
    "\n",
    "prev_tx = bytes.fromhex('15298dc29fccc3ce2f96126a606daa29a8f68fc5906ed859d23dfb517549aa6e')\n",
    "prev_index = 0\n",
    "fee = int(100000000*0.001)\n",
    "\n",
    "tx_in = TxIn(prev_tx, prev_index)\n",
    "amount = tx_in.value(testnet=True) - fee\n",
    "raw_witness = decode_bech32('tb1qevl98yey2nqnhnh5psn3h73zfl9yy5ae3ss4e79qungqa8y0eprsl8gle6')\n",
    "h256 = raw_witness[2:]\n",
    "script_pubkey = p2wsh_script(h256)\n",
    "tx_out = TxOut(amount, script_pubkey)\n",
    "\n",
    "t = Tx(1, [tx_in], [tx_out], 0, testnet=True)\n",
    "t.sign_input_p2wpkh(0, private_key)\n",
    "print(t.serialize_segwit().hex())"
   ]
  },
  {
   "cell_type": "code",
   "execution_count": 8,
   "metadata": {},
   "outputs": [
    {
     "name": "stdout",
     "output_type": "stream",
     "text": [
      "tb1qevl98yey2nqnhnh5psn3h73zfl9yy5ae3ss4e79qungqa8y0eprsl8gle6\n"
     ]
    }
   ],
   "source": [
    "# Multisig p2wsh, address\n",
    "\n",
    "from ecc import PrivateKey\n",
    "from helper import double_sha256, little_endian_to_int, decode_bech32\n",
    "from script import multisig_redeem_script, p2wsh_script\n",
    "\n",
    "secrets = (b'jimmy@programmingblockchain.com test1', b'jimmy@programmingblockchain.com test2')\n",
    "\n",
    "private_keys = [PrivateKey(little_endian_to_int(double_sha256(s))) for s in secrets]\n",
    "points = [p.point for p in private_keys]\n",
    "\n",
    "witness_script = multisig_redeem_script(2, points)\n",
    "h256 = witness_script.sha256()\n",
    "script_pubkey = p2wsh_script(h256)\n",
    "addr = script_pubkey.address(testnet=True) \n",
    "print(addr)"
   ]
  },
  {
   "cell_type": "code",
   "execution_count": 9,
   "metadata": {},
   "outputs": [
    {
     "name": "stdout",
     "output_type": "stream",
     "text": [
      "01000000000101886c52838ff10c2021ea0f4d62224945382abb4b82716082bd59b6d04de8fe6c0000000000ffffffff0160ae0a000000000017a914189e46fe6452ece52a362cf162fead10c5f244028704004830450221009099d2ff28dc7c7752a6026e5c054c58de7f5ce02e8e1c8b33b015fc12d7da3e022006f8560ea3b35f3e8d44e791f96312245c00c5bb50f95754f031c2bb3de18cc101483045022100b264087806a4d12f28f3f45e0c6acbea8c3a6cef3dfcca48e250bd1677008643022043583e9dab7215466ce2a361dd33ac51e9317c574e26ab134608cc08dd40e3fb014752210223136797cb0d7596cb5bd476102fe3aface2a06338e1afabffacf8c3cab4883c210385c865e61e275ba6fda4a3167180fc5a6b607150ff18797ee44737cd0d34507b52ae00000000\n"
     ]
    }
   ],
   "source": [
    "# Multisig p2wsh, redemption\n",
    "\n",
    "from ecc import PrivateKey\n",
    "from helper import double_sha256, little_endian_to_int, encode_bech32_checksum, decode_base58\n",
    "from script import multisig_redeem_script, p2wsh_script, Script\n",
    "from tx import Tx, TxIn, TxOut\n",
    "\n",
    "secrets = (b'jimmy@programmingblockchain.com test1', b'jimmy@programmingblockchain.com test2')\n",
    "\n",
    "private_keys = [PrivateKey(little_endian_to_int(double_sha256(s))) for s in secrets]\n",
    "points = [p.point for p in private_keys]\n",
    "\n",
    "witness_script = multisig_redeem_script(2, points)\n",
    "prev_tx = bytes.fromhex('6cfee84dd0b659bd826071824bbb2a38454922624d0fea21200cf18f83526c88')\n",
    "prev_index = 0\n",
    "fee = int(100000000*0.001)\n",
    "\n",
    "tx_in = TxIn(prev_tx, prev_index)\n",
    "amount = tx_in.value(testnet=True) - fee\n",
    "h160 = decode_base58('2MuVPpBuS6evYsVeUJ85Z5Z6hokXGdtkYAw')\n",
    "script_pubkey = p2sh_script(h160)\n",
    "tx_out = TxOut(amount, script_pubkey)\n",
    "\n",
    "t = Tx(1, [tx_in], [tx_out], 0, testnet=True)\n",
    "t.sign_input_p2wsh_multisig(0, private_keys, witness_script)\n",
    "print(t.serialize_segwit().hex())"
   ]
  },
  {
   "cell_type": "code",
   "execution_count": 10,
   "metadata": {},
   "outputs": [
    {
     "name": "stdout",
     "output_type": "stream",
     "text": [
      "2MuVPpBuS6evYsVeUJ85Z5Z6hokXGdtkYAw\n"
     ]
    }
   ],
   "source": [
    "# Multisig p2sh-p2wsh, address\n",
    "from ecc import PrivateKey\n",
    "from helper import double_sha256, little_endian_to_int, sha256\n",
    "from script import multisig_redeem_script, p2sh_script\n",
    "\n",
    "secrets = (b'jimmy@programmingblockchain.com test1', b'jimmy@programmingblockchain.com test2')\n",
    "\n",
    "private_keys = [PrivateKey(little_endian_to_int(double_sha256(s))) for s in secrets]\n",
    "points = [p.point for p in private_keys]\n",
    "\n",
    "witness_script = multisig_redeem_script(2, points)\n",
    "h256 = witness_script.sha256()\n",
    "redeem_script = p2wsh_script(h256)\n",
    "h160 = redeem_script.hash160()\n",
    "script_pubkey = p2sh_script(h160)\n",
    "\n",
    "print(script_pubkey.address(testnet=True))"
   ]
  },
  {
   "cell_type": "code",
   "execution_count": 11,
   "metadata": {},
   "outputs": [
    {
     "name": "stdout",
     "output_type": "stream",
     "text": [
      "01000000000101c1f8a4e554ac29a293595b1d23a43c99c115aeff202dbaef46b8aa466bb83fc90000000023220020cb3e53932454c13bcef40c271bfa224fca4253b98c215cf8a0e4d00e9c8fc847ffffffff01c02709000000000017a91436b865d5b9664193ea1db43d159edf9edf94380287040047304402205581c0223cfc996e0db64e93b58862d059d9a8a35efd8311687f9eb2d42ff62502205f404afbcd05156a550b39048b151737a784bc4134598983294c5d013c56d44401483045022100f24f2e9967bec794ba52aca94b5c3c39ebd87932d38ecabd68dc51cc0e1c672d022047aaaaaf2cee39b280ebd371fa73797694ffae21e148a45b9c27cc526d0c97a9014752210223136797cb0d7596cb5bd476102fe3aface2a06338e1afabffacf8c3cab4883c210385c865e61e275ba6fda4a3167180fc5a6b607150ff18797ee44737cd0d34507b52ae00000000\n"
     ]
    }
   ],
   "source": [
    "# Multisig p2sh-p2wsh, redemption\n",
    "\n",
    "from ecc import PrivateKey\n",
    "from helper import double_sha256, little_endian_to_int, encode_bech32_checksum, decode_base58\n",
    "from script import multisig_redeem_script, p2wsh_script, Script\n",
    "from tx import Tx, TxIn, TxOut\n",
    "\n",
    "secrets = (b'jimmy@programmingblockchain.com test1', b'jimmy@programmingblockchain.com test2')\n",
    "\n",
    "private_keys = [PrivateKey(little_endian_to_int(double_sha256(s))) for s in secrets]\n",
    "points = [p.point for p in private_keys]\n",
    "\n",
    "witness_script = multisig_redeem_script(2, points)\n",
    "h256 = witness_script.sha256()\n",
    "redeem_script = p2wsh_script(h256)\n",
    "\n",
    "prev_tx = bytes.fromhex('c93fb86b46aab846efba2d20ffae15c1993ca4231d5b5993a229ac54e5a4f8c1')\n",
    "prev_index = 0\n",
    "fee = int(100000000*0.001)\n",
    "\n",
    "tx_in = TxIn(prev_tx, prev_index)\n",
    "amount = tx_in.value(testnet=True) - fee\n",
    "h160 = decode_base58('2MxEZNps15dAnGX5XaVwZWgoDvjvsDE5XSx')\n",
    "script_pubkey = p2sh_script(h160)\n",
    "tx_out = TxOut(amount, script_pubkey)\n",
    "\n",
    "t = Tx(1, [tx_in], [tx_out], 0, testnet=True)\n",
    "t.sign_input_p2sh_p2wsh_multisig(0, private_keys, witness_script)\n",
    "print(t.serialize_segwit().hex())"
   ]
  }
 ],
 "metadata": {
  "kernelspec": {
   "display_name": "Python 3",
   "language": "python",
   "name": "python3"
  },
  "language_info": {
   "codemirror_mode": {
    "name": "ipython",
    "version": 3
   },
   "file_extension": ".py",
   "mimetype": "text/x-python",
   "name": "python",
   "nbconvert_exporter": "python",
   "pygments_lexer": "ipython3",
   "version": "3.6.5"
  }
 },
 "nbformat": 4,
 "nbformat_minor": 2
}
