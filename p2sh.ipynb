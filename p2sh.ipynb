{
 "cells": [
  {
   "cell_type": "code",
   "execution_count": 1,
   "metadata": {},
   "outputs": [],
   "source": [
    "from importlib import reload\n",
    "\n",
    "import ecc\n",
    "import helper\n",
    "import script\n",
    "import tx"
   ]
  },
  {
   "cell_type": "code",
   "execution_count": 2,
   "metadata": {},
   "outputs": [
    {
     "name": "stdout",
     "output_type": "stream",
     "text": [
      "2MxEZNps15dAnGX5XaVwZWgoDvjvsDE5XSx\n"
     ]
    }
   ],
   "source": [
    "from ecc import PrivateKey\n",
    "from helper import double_sha256, little_endian_to_int\n",
    "from script import multisig_redeem_script, p2sh_script\n",
    "\n",
    "secrets = (b'jimmy@programmingblockchain.com test1', b'jimmy@programmingblockchain.com test2')\n",
    "\n",
    "private_keys = [PrivateKey(little_endian_to_int(double_sha256(s))) for s in secrets]\n",
    "points = [p.point for p in private_keys]\n",
    "\n",
    "redeem_script = multisig_redeem_script(2, points)\n",
    "h160 = redeem_script.hash160()\n",
    "script_pubkey = p2sh_script(h160)\n",
    "print(script_pubkey.address(testnet=True))"
   ]
  },
  {
   "cell_type": "code",
   "execution_count": 3,
   "metadata": {},
   "outputs": [
    {
     "name": "stdout",
     "output_type": "stream",
     "text": [
      "010000000178d2f3b4388f479cc275a2a2535f9071710d601eb47724fee05bb3521e47549a00000000da00483045022100aa47d20d5eb5b2d92c7b0a641194eb5a482b159147fe28c42f4c2f68ed961494022016b7258e9b74173c23b77d6dcb660d2b5bf7b588e70fbe54a3a65d52066ea30d01473044022040da6a008eff920f96382071cbcfd31f779e5291e4b8741ece8fcbe90750b6700220074f341b62a8e03c49be15c83ceabbe08dbdb3a2aa7b8b44de3141769e0e436d014752210223136797cb0d7596cb5bd476102fe3aface2a06338e1afabffacf8c3cab4883c210385c865e61e275ba6fda4a3167180fc5a6b607150ff18797ee44737cd0d34507b52aeffffffff02d7a57a000000000017a91436b865d5b9664193ea1db43d159edf9edf9438028740420f000000000017a9147144796678ef9edc1a86745c2a01f8fb923ed6568700000000\n"
     ]
    }
   ],
   "source": [
    "from ecc import PrivateKey\n",
    "from helper import double_sha256, little_endian_to_int\n",
    "from script import multisig_redeem_script, p2sh_script, Script\n",
    "from tx import Tx, TxIn, TxOut\n",
    "\n",
    "secrets = (b'jimmy@programmingblockchain.com test1', b'jimmy@programmingblockchain.com test2')\n",
    "\n",
    "private_keys = [PrivateKey(little_endian_to_int(double_sha256(s))) for s in secrets]\n",
    "points = [p.point for p in private_keys]\n",
    "\n",
    "redeem_script = multisig_redeem_script(2, points)\n",
    "prev_tx = bytes.fromhex('9a54471e52b35be0fe2477b41e600d7171905f53a2a275c29c478f38b4f3d278')\n",
    "prev_index = 0\n",
    "fee = int(100000000*0.001)\n",
    "\n",
    "tx_in = TxIn(prev_tx, prev_index, Script([]), 0xffffffff)\n",
    "h160 = redeem_script.hash160()\n",
    "script_pubkey = p2sh_script(h160)\n",
    "amount = tx_in.value(testnet=True) - fee - 1000000\n",
    "tx_out_1 = TxOut(amount, script_pubkey)\n",
    "h160 = bytes.fromhex('7144796678ef9edc1a86745c2a01f8fb923ed656')\n",
    "script_pubkey = p2sh_script(h160)\n",
    "tx_out_2 = TxOut(1000000, script_pubkey)\n",
    "\n",
    "t = Tx(1, [tx_in], [tx_out_1, tx_out_2], 0, testnet=True)\n",
    "t.sign_input_p2sh_multisig(0, private_keys, redeem_script)\n",
    "print(t.serialize().hex())"
   ]
  },
  {
   "cell_type": "code",
   "execution_count": 4,
   "metadata": {},
   "outputs": [
    {
     "name": "stdout",
     "output_type": "stream",
     "text": [
      "2N3a8NdfeA7SAurCGsd5k9AEYvbszipz3Jz\n"
     ]
    }
   ],
   "source": [
    "from ecc import PrivateKey\n",
    "from helper import double_sha256, hash160, little_endian_to_int\n",
    "from script import p2wpkh_script, p2sh_script, Script\n",
    "from tx import Tx, TxIn, TxOut\n",
    "\n",
    "secret = b'jimmy@programmingblockchain.com test1'\n",
    "\n",
    "private_key = PrivateKey(little_endian_to_int(double_sha256(secret)))\n",
    "point = private_key.point\n",
    "real_h160 = hash160(point.sec())\n",
    "\n",
    "redeem_script = p2wpkh_script(real_h160)\n",
    "h160 = redeem_script.hash160()\n",
    "\n",
    "print(p2sh_script(h160).address(testnet=True))"
   ]
  },
  {
   "cell_type": "code",
   "execution_count": 5,
   "metadata": {},
   "outputs": [
    {
     "name": "stdout",
     "output_type": "stream",
     "text": [
      "01000000000101b8df883edb04ee72415edd9ea04dfea6a389656a6d907ddfe81f05f1ab480e77010000001716001489eb4b9efba700895fd2b02a1b0d2bf8f0864935ffffffff01a0bb0d000000000017a9147144796678ef9edc1a86745c2a01f8fb923ed6568702483045022100a5bb908b7d66a8d85e461ac22263cf7d851dd316e1a45a76fcd7f8036f682e1b0220167b335118ba7235ca73bc60bf55bbd12005e1b7c99769e30a6f0e7eaad8031801210223136797cb0d7596cb5bd476102fe3aface2a06338e1afabffacf8c3cab4883c00000000\n"
     ]
    }
   ],
   "source": [
    "from ecc import PrivateKey\n",
    "from helper import double_sha256, little_endian_to_int\n",
    "from script import multisig_redeem_script, p2sh_script, Script\n",
    "from tx import Tx, TxIn, TxOut\n",
    "\n",
    "secret = b'jimmy@programmingblockchain.com test1'\n",
    "\n",
    "private_key = PrivateKey(little_endian_to_int(double_sha256(secret)))\n",
    "point = private_key.point\n",
    "real_h160 = hash160(point.sec())\n",
    "\n",
    "redeem_script = p2wpkh_script(real_h160)\n",
    "h160 = redeem_script.hash160()\n",
    "\n",
    "prev_tx = bytes.fromhex('770e48abf1051fe8df7d906d6a6589a3a6fe4da09edd5e4172ee04db3e88dfb8')\n",
    "prev_index = 1\n",
    "fee = int(100000000*0.001)\n",
    "\n",
    "tx_in = TxIn(prev_tx, prev_index, Script([]), 0xffffffff)\n",
    "script_pubkey = p2sh_script(h160)\n",
    "amount = tx_in.value(testnet=True) - fee\n",
    "tx_out = TxOut(amount, script_pubkey)\n",
    "\n",
    "t = Tx(1, [tx_in], [tx_out], 0, testnet=True)\n",
    "t.sign_input_p2sh_p2wpkh(0, private_key)\n",
    "print(t.serialize_segwit().hex())"
   ]
  }
 ],
 "metadata": {
  "kernelspec": {
   "display_name": "Python 3",
   "language": "python",
   "name": "python3"
  },
  "language_info": {
   "codemirror_mode": {
    "name": "ipython",
    "version": 3
   },
   "file_extension": ".py",
   "mimetype": "text/x-python",
   "name": "python",
   "nbconvert_exporter": "python",
   "pygments_lexer": "ipython3",
   "version": "3.6.5"
  }
 },
 "nbformat": 4,
 "nbformat_minor": 2
}
